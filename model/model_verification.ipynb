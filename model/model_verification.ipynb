{
 "cells": [
  {
   "cell_type": "code",
   "execution_count": 32,
   "metadata": {},
   "outputs": [],
   "source": [
    "import matplotlib.pyplot as plt\n",
    "\n",
    "from functions import expected_utility_prospect_theory"
   ]
  },
  {
   "cell_type": "markdown",
   "metadata": {},
   "source": [
    "# Single Agent Testing\n",
    "\n",
    "Two single agent test are performed:\n",
    "\n",
    "1) **The ultility of a single agent for taking the adaptiation measure vs not taking the adaptation measre**\n",
    "\n",
    " Expected outcome: \n",
    "- The utility should never be >0, as just negative values are used to calculate the utility.\n",
    "- The utility of taking no measure should be on average higher than taking the measure, if fixed parameters are used to for the subjective risk perception (RPt), estimated flood damage (per flooding scenario), flood risk, measure of the cost, and subsidie. Variations in the utility are due to paramters of the functions (used to calcualte the utility, see functions.py), being randomly drawn from a distribution.\n",
    "\n",
    "\n",
    "2) **The decision for taking an adaptation measure or not**\n",
    "\n",
    "Excpected oucome:\n",
    "- If the agent has enough savings, and has more savings than the defined savings threshold after potentially purchasing the adaptation measure...\n",
    "- And if the agents utility of adaptiong is higher than not adapting...\n",
    "- Then the agent is expected to adapt.\n",
    "\n",
    "(It might be important to note that a case where the expected utility of not taking a measre and taking the measure are equal, doesn't exits. This is due to the nature of the calcualtion of the utilities as presented in the first single agent test)\n"
   ]
  },
  {
   "cell_type": "code",
   "execution_count": 25,
   "metadata": {},
   "outputs": [
    {
     "data": {
      "image/png": "[encoded data removed]",
      "text/plain": [
       "<Figure size 640x480 with 1 Axes>"
      ]
     },
     "metadata": {},
     "output_type": "display_data"
    }
   ],
   "source": [
    "# Single Agent: Calculate utility of adaption and non-adaption\n",
    "\n",
    "# Parameters needed\n",
    "flood_risk = [0.05, 0.15, 0.3, 0.5] # flood risk for 'harvey', '100yr', '500yr', or no-flood flood-event\n",
    "flood_damage_estimated_list = [10000, 10000, 10000, 0] # exemplary flood damage for each flood risk in USD\n",
    "RPt = 0.5 # Risk perception of the agent (0.5 is neutral/objective risk perception)\n",
    "cost_measure = 35000 # Cost of the measure in USD\n",
    "subsidie = 5000 # Subsidie for the measure in USD\n",
    "\n",
    "# Initilaize the expected utility for adaptation=True and adaptation=False\n",
    "expected_utility_measure = 0\n",
    "expected_utility_nomeasure = 0\n",
    "\n",
    "# Define the number of runs\n",
    "num_runs = 1000000\n",
    "\n",
    "# Initialize lists to store the results\n",
    "expected_utility_measure_list = []\n",
    "expected_utility_nomeasure_list = []\n",
    "\n",
    "# Run the code multiple times\n",
    "for _ in range(num_runs):\n",
    "    # Reset the expected utilities for each run\n",
    "    expected_utility_measure = 0\n",
    "    expected_utility_nomeasure = 0\n",
    "\n",
    "    # Calculate the expected utilities\n",
    "    for risk_of_flood, perceived_flood_damage in zip(flood_risk, flood_damage_estimated_list):\n",
    "        utility_adaptation_true = expected_utility_prospect_theory(risk_of_flood=risk_of_flood,\n",
    "                                                                   percieved_flood_damage=perceived_flood_damage,\n",
    "                                                                   RPt=RPt,\n",
    "                                                                   cost_of_measure=cost_measure,\n",
    "                                                                   subsidie=subsidie,\n",
    "                                                                   action=True,\n",
    "                                                                   )\n",
    "        expected_utility_measure += utility_adaptation_true\n",
    "\n",
    "        utility_adaptation_false = expected_utility_prospect_theory(risk_of_flood=risk_of_flood,\n",
    "                                                                    percieved_flood_damage=perceived_flood_damage,\n",
    "                                                                    RPt=RPt,\n",
    "                                                                    cost_of_measure=cost_measure,\n",
    "                                                                    subsidie=subsidie,\n",
    "                                                                    action=False,\n",
    "                                                                    )\n",
    "        expected_utility_nomeasure += utility_adaptation_false\n",
    "\n",
    "    # Store the results\n",
    "    expected_utility_measure_list.append(expected_utility_measure)\n",
    "    expected_utility_nomeasure_list.append(expected_utility_nomeasure)\n",
    "\n",
    "# Plot the distribution of the results\n",
    "plt.hist(expected_utility_measure_list, bins=100, alpha=0.5, label='Adaptation measure taken')\n",
    "plt.hist(expected_utility_nomeasure_list, bins=100, alpha=0.5, label='Adaptation measure not taken')\n",
    "plt.legend(loc='upper left')\n",
    "plt.show()\n",
    "\n",
    "# Inspecting the plot visually, we can see that the expected utility of the measure is higher than the expected utility of no measure\n",
    "# with non of them being >0.\n"
   ]
  },
  {
   "cell_type": "code",
   "execution_count": 31,
   "metadata": {},
   "outputs": [
    {
     "name": "stdout",
     "output_type": "stream",
     "text": [
      "Expected utility with measure: -200000\n",
      "Expected utility without measure: -100000\n",
      "Savings: 40000\n",
      "Is adapted: False\n",
      "\n",
      "\n",
      "Expected utility with measure: -100000\n",
      "Expected utility without measure: -200000\n",
      "Savings: 5000\n",
      "Is adapted: True\n",
      "\n",
      "\n",
      "Expected utility with measure: -100000\n",
      "Expected utility without measure: -200000\n",
      "Savings: 0\n",
      "Is adapted: False\n",
      "\n",
      "\n"
     ]
    }
   ],
   "source": [
    "# Define the lists of expected utilities and savings\n",
    "expected_utility_measure_list = [-200000, -100000, -100000]\n",
    "expected_utility_nomeasure_list = [-100000, -200000, -200000]\n",
    "savings_list = [40000, 40000, 0]  # Agent's savings in USD for each scenario\n",
    "\n",
    "savings_threshold = 5000  # Threshold for savings in USD\n",
    "is_adapted = False  # Initialize adaptation status of the agent\n",
    "\n",
    "# Iterate over the expected utilities and savings\n",
    "for expected_utility_measure, expected_utility_nomeasure, savings in zip(expected_utility_measure_list, expected_utility_nomeasure_list, savings_list):\n",
    "    # Check if the agent should adapt\n",
    "    if expected_utility_measure > expected_utility_nomeasure and savings > (cost_measure - subsidie + savings_threshold):\n",
    "        is_adapted = True  # Agent adapts to flooding\n",
    "        savings = savings - cost_measure  # Agent pays for adaptation measures\n",
    "    else:\n",
    "        is_adapted = False\n",
    "\n",
    "    # Print the expected utilities, savings and the outcome\n",
    "    print(f\"Expected utility with measure: {expected_utility_measure}\")\n",
    "    print(f\"Expected utility without measure: {expected_utility_nomeasure}\")\n",
    "    print(f\"Savings: {savings}\")\n",
    "    print(f\"Is adapted: {is_adapted}\")\n",
    "    print(\"\\n\")"
   ]
  }
 ],
 "metadata": {
  "kernelspec": {
   "display_name": "sen1211",
   "language": "python",
   "name": "python3"
  },
  "language_info": {
   "codemirror_mode": {
    "name": "ipython",
    "version": 3
   },
   "file_extension": ".py",
   "mimetype": "text/x-python",
   "name": "python",
   "nbconvert_exporter": "python",
   "pygments_lexer": "ipython3",
   "version": "3.12.1"
  }
 },
 "nbformat": 4,
 "nbformat_minor": 2
}
