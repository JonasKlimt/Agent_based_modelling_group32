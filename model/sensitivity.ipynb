{
 "cells": [
  {
   "cell_type": "code",
   "execution_count": 37,
   "metadata": {},
   "outputs": [],
   "source": [
    "# Import libaries\n",
    "from ema_workbench import Model, RealParameter, IntegerParameter, ScalarOutcome, ema_logging, perform_experiments\n",
    "from ema_workbench.analysis import feature_scoring\n",
    "\n",
    "import seaborn as sns\n",
    "import matplotlib.pyplot as plt\n",
    "\n",
    "# Import model from model.py\n",
    "from model import AdaptationModel"
   ]
  },
  {
   "cell_type": "code",
   "execution_count": 31,
   "metadata": {},
   "outputs": [],
   "source": [
    "# Define function to run model and return outcomes\n",
    "def run_model(probability_of_network_connection, number_of_edges, number_of_nearest_neighbours):\n",
    "    model = AdaptationModel(number_of_households=50, flood_map_choice=\"harvey\", network=\"watts_strogatz\", \n",
    "                            probability_of_network_connection=probability_of_network_connection,\n",
    "                            number_of_edges=number_of_edges,\n",
    "                            number_of_nearest_neighbours=number_of_nearest_neighbours)\n",
    "    for step in range(20):\n",
    "        model.step()\n",
    "    \n",
    "    model_data = model.datacollector.get_model_vars_dataframe()\n",
    "    model_data_final = model_data.iloc[-1][\"total_adapted_households\"]  # get the value from the 'total_adapted_households' column of the last row\n",
    "\n",
    "    return {\"model_data_final\": model_data_final}"
   ]
  },
  {
   "cell_type": "code",
   "execution_count": 32,
   "metadata": {},
   "outputs": [
    {
     "name": "stderr",
     "output_type": "stream",
     "text": [
      "[EMA.ema_workbench.em_framework.evaluators/INFO/MainProcess] performing 10 scenarios * 1 policies * 1 model(s) = 10 experiments\n",
      "\n",
      "\n",
      "\n",
      "\n",
      "\n",
      "\n",
      "\n",
      "\u001b[A\u001b[A\u001b[A\u001b[A\u001b[A\u001b[A\u001b[A[EMA.ema_workbench.em_framework.evaluators/INFO/MainProcess] performing experiments sequentially\n",
      "\n",
      "\n",
      "\n",
      "\n",
      "\n",
      "\n",
      "\n",
      "\u001b[A\u001b[A\u001b[A\u001b[A\u001b[A\u001b[A\u001b[A\n",
      "\n",
      "\n",
      "\n",
      "\n",
      "\n",
      "\n",
      "\u001b[A\u001b[A\u001b[A\u001b[A\u001b[A\u001b[A\u001b[A\n",
      "\n",
      "\n",
      "\n",
      "\n",
      "\n",
      "\n",
      "100%|██████████████████████████████████████████| 10/10 [00:00<00:00, 24.80it/s]\n",
      "[EMA.ema_workbench.em_framework.evaluators/INFO/MainProcess] experiments finished\n"
     ]
    },
    {
     "data": {
      "text/plain": [
       "(   number_of_edges  number_of_nearest_neighbours  \\\n",
       " 0                3                             5   \n",
       " 1                2                             5   \n",
       " 2                3                             6   \n",
       " 3                2                             4   \n",
       " 4                3                             5   \n",
       " 5                2                             4   \n",
       " 6                4                             6   \n",
       " 7                4                             4   \n",
       " 8                4                             6   \n",
       " 9                3                             6   \n",
       " \n",
       "    probability_of_network_connection scenario policy    model  \n",
       " 0                           0.454863     1120   None  ABModel  \n",
       " 1                           0.487043     1121   None  ABModel  \n",
       " 2                           0.315158     1122   None  ABModel  \n",
       " 3                           0.462644     1123   None  ABModel  \n",
       " 4                           0.355999     1124   None  ABModel  \n",
       " 5                           0.435431     1125   None  ABModel  \n",
       " 6                           0.411067     1126   None  ABModel  \n",
       " 7                           0.387047     1127   None  ABModel  \n",
       " 8                           0.323965     1128   None  ABModel  \n",
       " 9                           0.362913     1129   None  ABModel  ,\n",
       " {'model_data_final': array([39, 41, 38, 37, 38, 38, 41, 39, 32, 34], dtype=int64)})"
      ]
     },
     "execution_count": 32,
     "metadata": {},
     "output_type": "execute_result"
    }
   ],
   "source": [
    "ema_logging.LOG_FORMAT = \"[%(name)s/%(levelname)s/%(processName)s] %(message)s\"\n",
    "ema_logging.log_to_stderr(ema_logging.INFO)\n",
    "\n",
    "model = Model(\"ABModel\", function=run_model)  # instantiate the model\n",
    "\n",
    "# specify uncertainties\n",
    "model.uncertainties = [\n",
    "    RealParameter(\"probability_of_network_connection\", 0.3, 0.5),\n",
    "    IntegerParameter(\"number_of_edges\", 2, 4),\n",
    "    IntegerParameter(\"number_of_nearest_neighbours\", 4, 6),\n",
    "]\n",
    "\n",
    "# specify outcomes\n",
    "model.outcomes = [ScalarOutcome(\"model_data_final\")]\n",
    "\n",
    "results = perform_experiments(model, 10)\n",
    "results"
   ]
  },
  {
   "cell_type": "code",
   "execution_count": 33,
   "metadata": {},
   "outputs": [
    {
     "name": "stdout",
     "output_type": "stream",
     "text": [
      "(10, 6)\n",
      "['model_data_final']\n"
     ]
    }
   ],
   "source": [
    "experiments, outcomes = results\n",
    "print(experiments.shape)\n",
    "print(list(outcomes.keys()))"
   ]
  },
  {
   "cell_type": "code",
   "execution_count": 42,
   "metadata": {},
   "outputs": [
    {
     "data": {
      "image/png": "[encoded data removed]",
      "text/plain": [
       "<Figure size 640x480 with 2 Axes>"
      ]
     },
     "metadata": {},
     "output_type": "display_data"
    }
   ],
   "source": [
    "x = experiments\n",
    "y = outcomes\n",
    "\n",
    "fs = feature_scoring.get_feature_scores_all(x, y)\n",
    "sns.heatmap(fs, cmap=\"viridis\", annot=True)\n",
    "plt.show()\n",
    "# do not show this to the reader, put it in the appendix\n",
    "# rather dive into one specific sensitivity"
   ]
  }
 ],
 "metadata": {
  "kernelspec": {
   "display_name": "sen1211",
   "language": "python",
   "name": "python3"
  },
  "language_info": {
   "codemirror_mode": {
    "name": "ipython",
    "version": 3
   },
   "file_extension": ".py",
   "mimetype": "text/x-python",
   "name": "python",
   "nbconvert_exporter": "python",
   "pygments_lexer": "ipython3",
   "version": "3.12.1"
  }
 },
 "nbformat": 4,
 "nbformat_minor": 2
}
